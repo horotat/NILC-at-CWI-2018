{
 "cells": [
  {
   "cell_type": "code",
   "execution_count": null,
   "metadata": {},
   "outputs": [],
   "source": [
    "%load_ext autoreload\n",
    "%autoreload 2\n",
    "%matplotlib inline\n",
    "from sklearn.linear_model import LogisticRegression, LinearRegression\n",
    "from sklearn.model_selection import GridSearchCV\n",
    "from sklearn.model_selection import StratifiedKFold\n",
    "from sklearn.tree import DecisionTreeClassifier\n",
    "from sklearn.ensemble import BaggingClassifier, BaggingRegressor, AdaBoostClassifier, AdaBoostRegressor, ExtraTreesClassifier, ExtraTreesRegressor\n",
    "from sklearn.metrics import roc_curve, auc\n",
    "\n",
    "from keras.callbacks import ModelCheckpoint\n",
    "from keras.optimizers import Adam, Nadam\n",
    "from keras.models import load_model\n",
    "\n",
    "from data import Data\n",
    "\n",
    "from neural_network import create_nn\n",
    "\n",
    "from neural_network_utils import auc\n",
    "\n",
    "from ml_utils import print_roc, evaluate, best_threshold\n",
    "\n",
    "from features import FeatureExtractor\n",
    "\n",
    "import pandas as pd\n",
    "\n",
    "import numpy as np"
   ]
  },
  {
   "cell_type": "code",
   "execution_count": 2,
   "metadata": {},
   "outputs": [],
   "source": [
    "embeddings_path = '/Users/nathanhartmann/Desktop/cwi_utils/glove.100d.bin'\n",
    "#embeddings_path = './glove.100d.bin'\n",
    "neural_network_model_path = '/Users/nathanhartmann/Desktop/cwi_utils/model.h5'\n",
    "#neural_network_model_path = './model_2relu_sigmoid.h5'\n",
    "training_data = ['datasets/english/News_Train.tsv',\n",
    "                 'datasets/english/WikiNews_Train.tsv',\n",
    "                 'datasets/english/Wikipedia_Train.tsv',\n",
    "                ]\n",
    "dev_data = ['datasets/english/News_Dev.tsv',\n",
    "            'datasets/english/WikiNews_Dev.tsv',\n",
    "            'datasets/english/Wikipedia_Dev.tsv'\n",
    "           ]\n",
    "\n",
    "data_train = Data(training_data)\n",
    "data_dev = Data(dev_data)"
   ]
  },
  {
   "cell_type": "markdown",
   "metadata": {},
   "source": [
    "-----\n",
    "# Features extraction"
   ]
  },
  {
   "cell_type": "code",
   "execution_count": 4,
   "metadata": {},
   "outputs": [],
   "source": [
    "fe = FeatureExtractor(embedding_model_path=embeddings_path)\n",
    "x_train = fe.predict_average_embeddings(data_train.instances)\n",
    "x_dev = fe.predict_average_embeddings(data_dev.instances)\n",
    "y_train = data_train.y\n",
    "y_dev = data_dev.y"
   ]
  },
  {
   "cell_type": "markdown",
   "metadata": {},
   "source": [
    "-----\n",
    "# Training neural network"
   ]
  },
  {
   "cell_type": "code",
   "execution_count": 82,
   "metadata": {},
   "outputs": [
    {
     "name": "stdout",
     "output_type": "stream",
     "text": [
      "Train on 27299 samples, validate on 3328 samples\n",
      "Epoch 1/20\n",
      "27299/27299 [==============================] - 54s 2ms/step - loss: 0.4925 - auc: 0.8337 - val_loss: 0.5210 - val_auc: 0.8474\n",
      "\n",
      "Epoch 00001: val_auc improved from -inf to 0.84742, saving model to /Users/nathanhartmann/Desktop/model.h5\n",
      "Epoch 2/20\n",
      "27299/27299 [==============================] - 20s 737us/step - loss: 0.4290 - auc: nan - val_loss: 0.4459 - val_auc: 0.8681\n",
      "\n",
      "Epoch 00002: val_auc improved from 0.84742 to 0.86810, saving model to /Users/nathanhartmann/Desktop/model.h5\n",
      "Epoch 3/20\n",
      "27299/27299 [==============================] - 20s 743us/step - loss: 0.3973 - auc: 0.8984 - val_loss: 0.4482 - val_auc: 0.8725\n",
      "\n",
      "Epoch 00003: val_auc improved from 0.86810 to 0.87246, saving model to /Users/nathanhartmann/Desktop/model.h5\n",
      "Epoch 4/20\n",
      "27299/27299 [==============================] - 20s 735us/step - loss: 0.3733 - auc: 0.9100 - val_loss: 0.4252 - val_auc: 0.8844\n",
      "\n",
      "Epoch 00004: val_auc improved from 0.87246 to 0.88444, saving model to /Users/nathanhartmann/Desktop/model.h5\n",
      "Epoch 5/20\n",
      "27299/27299 [==============================] - 20s 731us/step - loss: 0.3572 - auc: 0.9177 - val_loss: 0.4298 - val_auc: 0.8829\n",
      "\n",
      "Epoch 00005: val_auc did not improve\n",
      "Epoch 6/20\n",
      "27299/27299 [==============================] - 20s 725us/step - loss: 0.3434 - auc: 0.9237 - val_loss: 0.4359 - val_auc: 0.8812\n",
      "\n",
      "Epoch 00006: val_auc did not improve\n",
      "Epoch 7/20\n",
      "27299/27299 [==============================] - 20s 718us/step - loss: 0.3323 - auc: nan - val_loss: 0.4482 - val_auc: 0.8771\n",
      "\n",
      "Epoch 00007: val_auc did not improve\n",
      "Epoch 8/20\n",
      "27299/27299 [==============================] - 20s 722us/step - loss: 0.3225 - auc: 0.9336 - val_loss: 0.4491 - val_auc: 0.8815\n",
      "\n",
      "Epoch 00008: val_auc did not improve\n",
      "Epoch 9/20\n",
      "27299/27299 [==============================] - 20s 735us/step - loss: 0.3148 - auc: 0.9363 - val_loss: 0.4675 - val_auc: 0.8790\n",
      "\n",
      "Epoch 00009: val_auc did not improve\n",
      "Epoch 10/20\n",
      "27299/27299 [==============================] - 20s 735us/step - loss: 0.3079 - auc: 0.9397 - val_loss: 0.4529 - val_auc: 0.8820\n",
      "\n",
      "Epoch 00010: val_auc did not improve\n",
      "Epoch 11/20\n",
      "27299/27299 [==============================] - 21s 777us/step - loss: 0.3009 - auc: 0.9420 - val_loss: 0.4611 - val_auc: 0.8734\n",
      "\n",
      "Epoch 00011: val_auc did not improve\n",
      "Epoch 12/20\n",
      "27299/27299 [==============================] - 25s 918us/step - loss: 0.2953 - auc: 0.9445 - val_loss: 0.4788 - val_auc: 0.8830\n",
      "\n",
      "Epoch 00012: val_auc did not improve\n",
      "Epoch 13/20\n",
      "27299/27299 [==============================] - 27s 973us/step - loss: 0.2915 - auc: 0.9459 - val_loss: 0.4688 - val_auc: 0.8804\n",
      "\n",
      "Epoch 00013: val_auc did not improve\n",
      "Epoch 14/20\n",
      "27299/27299 [==============================] - 25s 923us/step - loss: 0.2877 - auc: 0.9469 - val_loss: 0.4646 - val_auc: 0.8852\n",
      "\n",
      "Epoch 00014: val_auc improved from 0.88444 to 0.88524, saving model to /Users/nathanhartmann/Desktop/model.h5\n",
      "Epoch 15/20\n",
      "27299/27299 [==============================] - 27s 1ms/step - loss: 0.2824 - auc: 0.9494 - val_loss: 0.4672 - val_auc: 0.8824\n",
      "\n",
      "Epoch 00015: val_auc did not improve\n",
      "Epoch 16/20\n",
      "27299/27299 [==============================] - 28s 1ms/step - loss: 0.2790 - auc: nan - val_loss: 0.4872 - val_auc: 0.8799\n",
      "\n",
      "Epoch 00016: val_auc did not improve\n",
      "Epoch 17/20\n",
      "27299/27299 [==============================] - 27s 978us/step - loss: 0.2750 - auc: 0.9513 - val_loss: 0.4946 - val_auc: 0.8822\n",
      "\n",
      "Epoch 00017: val_auc did not improve\n",
      "Epoch 18/20\n",
      "27299/27299 [==============================] - 27s 983us/step - loss: 0.2732 - auc: nan - val_loss: 0.4889 - val_auc: 0.8808\n",
      "\n",
      "Epoch 00018: val_auc did not improve\n",
      "Epoch 19/20\n",
      "27299/27299 [==============================] - 29s 1ms/step - loss: 0.2712 - auc: 0.9534 - val_loss: 0.4822 - val_auc: 0.8840\n",
      "\n",
      "Epoch 00019: val_auc did not improve\n",
      "Epoch 20/20\n",
      "27299/27299 [==============================] - 25s 916us/step - loss: 0.2661 - auc: 0.9538 - val_loss: 0.4867 - val_auc: 0.8837\n",
      "\n",
      "Epoch 00020: val_auc did not improve\n"
     ]
    },
    {
     "data": {
      "text/plain": [
       "<keras.callbacks.History at 0x2d2219ba8>"
      ]
     },
     "execution_count": 82,
     "metadata": {},
     "output_type": "execute_result"
    }
   ],
   "source": [
    "model = create_nn()\n",
    "#optimizer = Adam(lr=1e-6)\n",
    "optimizer = Nadam(lr=2e-3, beta_1=0.9, beta_2=0.999, schedule_decay=0.004)\n",
    "callbacks_list = [ModelCheckpoint('/Users/nathanhartmann/Desktop/model.h5', monitor='val_auc', verbose=1, save_best_only=True, mode='max'),]\n",
    "model.compile(optimizer=optimizer,\n",
    "              loss='binary_crossentropy',\n",
    "              metrics=[auc])\n",
    "\n",
    "model.fit(\n",
    "    x_train,\n",
    "    y_train,\n",
    "    validation_data=(x_dev, y_dev),\n",
    "    epochs=20,\n",
    "    batch_size=32,\n",
    "    callbacks=callbacks_list)"
   ]
  },
  {
   "cell_type": "markdown",
   "metadata": {},
   "source": [
    "-----\n",
    "# Predicting"
   ]
  },
  {
   "cell_type": "code",
   "execution_count": null,
   "metadata": {},
   "outputs": [],
   "source": [
    "model = load_model(neural_network_model_path, custom_objects={'auc':auc})"
   ]
  },
  {
   "cell_type": "code",
   "execution_count": null,
   "metadata": {},
   "outputs": [],
   "source": [
    "pred_train= model.predict(x_train)\n",
    "pred_dev = model.predict(x_dev)\n",
    "evaluate(pred_train, pred_dev, y_train, y_dev, optimize='f1', label='Average Embedding Neural Network')"
   ]
  }
 ],
 "metadata": {
  "kernelspec": {
   "display_name": "Python 3",
   "language": "python",
   "name": "python3"
  },
  "language_info": {
   "codemirror_mode": {
    "name": "ipython",
    "version": 3
   },
   "file_extension": ".py",
   "mimetype": "text/x-python",
   "name": "python",
   "nbconvert_exporter": "python",
   "pygments_lexer": "ipython3",
   "version": "3.6.1"
  }
 },
 "nbformat": 4,
 "nbformat_minor": 2
}
