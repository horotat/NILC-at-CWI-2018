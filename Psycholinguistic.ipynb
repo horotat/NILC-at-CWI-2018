{
 "cells": [
  {
   "cell_type": "markdown",
   "metadata": {},
   "source": [
    "# Psycholinguistic classifier"
   ]
  },
  {
   "cell_type": "code",
   "execution_count": 1,
   "metadata": {},
   "outputs": [],
   "source": [
    "%load_ext autoreload\n",
    "%autoreload 2\n",
    "from data import Data\n",
    "import pandas as pd"
   ]
  },
  {
   "cell_type": "code",
   "execution_count": 2,
   "metadata": {},
   "outputs": [],
   "source": [
    "df = pd.read_csv('utils/Psycholinguistic_Features.txt', sep='\\t')\n",
    "df_mean = df.mean(axis=0)\n",
    "training_data = ['datasets/english/News_Train.tsv',\n",
    "                 'datasets/english/WikiNews_Train.tsv',\n",
    "                 'datasets/english/Wikipedia_Train.tsv',\n",
    "                 ]\n",
    "data = Data()\n",
    "data.load_data(training_data)"
   ]
  },
  {
   "cell_type": "code",
   "execution_count": 3,
   "metadata": {},
   "outputs": [],
   "source": [
    "def get_psicolinguistics(df, df_mean, words):\n",
    "    psicos = []\n",
    "    for word in words:\n",
    "        psico = {'Familiarity': 0, 'Age_of_Acquisition':0, 'Concreteness':0, 'Imagery': 0}\n",
    "        infos = df[df.Word == word]\n",
    "        if not infos.empty:\n",
    "            psico['Familiarity'] += infos['Familiarity'].values[0]\n",
    "            psico['Age_of_Acquisition'] += infos['Age_of_Acquisition'].values[0]\n",
    "            psico['Concreteness'] += infos['Concreteness'].values[0]\n",
    "            psico['Imagery'] += infos['Imagery'].values[0]\n",
    "        else:\n",
    "            psico['Familiarity'] += df_mean['Familiarity']\n",
    "            psico['Age_of_Acquisition'] += df_mean['Age_of_Acquisition']\n",
    "            psico['Concreteness'] += df_mean['Concreteness']\n",
    "            psico['Imagery'] += df_mean['Imagery']\n",
    "        psicos.append(pd.Series(psico, index=['Familiarity', 'Age_of_Acquisition', 'Concreteness', 'Imagery']))\n",
    "    return pd.DataFrame(psicos).mean()"
   ]
  },
  {
   "cell_type": "code",
   "execution_count": 4,
   "metadata": {},
   "outputs": [
    {
     "data": {
      "text/plain": [
       "Familiarity           453.618040\n",
       "Age_of_Acquisition    369.559318\n",
       "Concreteness          473.870993\n",
       "Imagery               461.919200\n",
       "dtype: float64"
      ]
     },
     "execution_count": 4,
     "metadata": {},
     "output_type": "execute_result"
    }
   ],
   "source": [
    "get_psicolinguistics(df, df_mean, ['house', 'bla'])"
   ]
  },
  {
   "cell_type": "markdown",
   "metadata": {},
   "source": [
    "-----\n",
    "# Tests"
   ]
  },
  {
   "cell_type": "markdown",
   "metadata": {},
   "source": [
    "* target words not in psycholinguistic_features"
   ]
  },
  {
   "cell_type": "code",
   "execution_count": null,
   "metadata": {
    "scrolled": true
   },
   "outputs": [],
   "source": [
    "count = 0\n",
    "errors = []\n",
    "for instance in data.instances:\n",
    "    for target in instance.target:\n",
    "        try:\n",
    "            if len(df[df.Word == instance.tokens[target]].index) == 0:\n",
    "                count += 1\n",
    "                errors.append(instance.tokens[target])\n",
    "        except:\n",
    "            print(target, instance.target_chars, instance.tokens)\n",
    "print('%d / %d' % (count, len(data.instances)))\n",
    "print(list(set(errors)))"
   ]
  }
 ],
 "metadata": {
  "kernelspec": {
   "display_name": "Python 3",
   "language": "python",
   "name": "python3"
  },
  "language_info": {
   "codemirror_mode": {
    "name": "ipython",
    "version": 3
   },
   "file_extension": ".py",
   "mimetype": "text/x-python",
   "name": "python",
   "nbconvert_exporter": "python",
   "pygments_lexer": "ipython3",
   "version": "3.6.1"
  }
 },
 "nbformat": 4,
 "nbformat_minor": 2
}
